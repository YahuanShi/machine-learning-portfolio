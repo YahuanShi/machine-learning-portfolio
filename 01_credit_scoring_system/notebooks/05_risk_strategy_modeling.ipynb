{
 "cells": [
  {
   "cell_type": "markdown",
   "metadata": {},
   "source": [
    "# Risk Segmentation and Strategy Modeling\n",
    "In this notebook, we classify risk levels using score thresholds and analyze performance across bins."
   ]
  },
  {
   "cell_type": "code",
   "execution_count": 1,
   "metadata": {},
   "outputs": [],
   "source": [
    "# Imports\n",
    "import pandas as pd\n",
    "import numpy as np\n",
    "import matplotlib.pyplot as plt\n",
    "import joblib\n",
    "from sklearn.metrics import roc_auc_score, confusion_matrix"
   ]
  },
  {
   "cell_type": "code",
   "execution_count": 2,
   "metadata": {},
   "outputs": [],
   "source": [
    "# Load model and data\n",
    "model = joblib.load('../models/xgboost_model.pkl')  # or best_model.pkl\n",
    "df = pd.read_csv('../outputs/woe_train_data.csv')\n",
    "X = df.drop(columns='SeriousDlqin2yrs')\n",
    "y = df['SeriousDlqin2yrs']\n",
    "df['score'] = model.predict_proba(X)[:,1]  # score = risk probability"
   ]
  },
  {
   "cell_type": "markdown",
   "metadata": {},
   "source": [
    "## Define Risk Levels (e.g. Good / Medium / Bad)"
   ]
  },
  {
   "cell_type": "code",
   "execution_count": 3,
   "metadata": {},
   "outputs": [],
   "source": [
    "# Define bins by score quantiles or thresholds\n",
    "df['risk_level'] = pd.cut(df['score'], \n",
    "    bins=[-np.inf, 0.2, 0.5, 0.8, np.inf], \n",
    "    labels=['Low', 'Medium', 'High', 'Critical'])"
   ]
  },
  {
   "cell_type": "markdown",
   "metadata": {},
   "source": [
    "## Evaluate Performance per Risk Group"
   ]
  },
  {
   "cell_type": "code",
   "execution_count": 4,
   "metadata": {},
   "outputs": [
    {
     "name": "stderr",
     "output_type": "stream",
     "text": [
      "/var/folders/7n/jsxq10792314ly6yrv8s3vn80000gn/T/ipykernel_316/2589590610.py:2: FutureWarning: The default of observed=False is deprecated and will be changed to True in a future version of pandas. Pass observed=False to retain current behavior or observed=True to adopt the future default and silence this warning.\n",
      "  group_stats = df.groupby('risk_level')['SeriousDlqin2yrs'].agg(['count','mean'])\n"
     ]
    },
    {
     "data": {
      "text/html": [
       "<div>\n",
       "<style scoped>\n",
       "    .dataframe tbody tr th:only-of-type {\n",
       "        vertical-align: middle;\n",
       "    }\n",
       "\n",
       "    .dataframe tbody tr th {\n",
       "        vertical-align: top;\n",
       "    }\n",
       "\n",
       "    .dataframe thead th {\n",
       "        text-align: right;\n",
       "    }\n",
       "</style>\n",
       "<table border=\"1\" class=\"dataframe\">\n",
       "  <thead>\n",
       "    <tr style=\"text-align: right;\">\n",
       "      <th></th>\n",
       "      <th>Count</th>\n",
       "      <th>Default_Rate</th>\n",
       "    </tr>\n",
       "    <tr>\n",
       "      <th>risk_level</th>\n",
       "      <th></th>\n",
       "      <th></th>\n",
       "    </tr>\n",
       "  </thead>\n",
       "  <tbody>\n",
       "    <tr>\n",
       "      <th>Low</th>\n",
       "      <td>136499</td>\n",
       "      <td>0.033180</td>\n",
       "    </tr>\n",
       "    <tr>\n",
       "      <th>Medium</th>\n",
       "      <td>10075</td>\n",
       "      <td>0.320496</td>\n",
       "    </tr>\n",
       "    <tr>\n",
       "      <th>High</th>\n",
       "      <td>3089</td>\n",
       "      <td>0.644545</td>\n",
       "    </tr>\n",
       "    <tr>\n",
       "      <th>Critical</th>\n",
       "      <td>337</td>\n",
       "      <td>0.821958</td>\n",
       "    </tr>\n",
       "  </tbody>\n",
       "</table>\n",
       "</div>"
      ],
      "text/plain": [
       "             Count  Default_Rate\n",
       "risk_level                      \n",
       "Low         136499      0.033180\n",
       "Medium       10075      0.320496\n",
       "High          3089      0.644545\n",
       "Critical       337      0.821958"
      ]
     },
     "execution_count": 4,
     "metadata": {},
     "output_type": "execute_result"
    }
   ],
   "source": [
    "# Bad rate per group\n",
    "group_stats = df.groupby('risk_level')['SeriousDlqin2yrs'].agg(['count','mean'])\n",
    "group_stats.columns = ['Count', 'Default_Rate']\n",
    "group_stats = group_stats.sort_index()\n",
    "group_stats"
   ]
  },
  {
   "cell_type": "markdown",
   "metadata": {},
   "source": [
    "### Plot Bad Rate by Risk Level"
   ]
  },
  {
   "cell_type": "code",
   "execution_count": 5,
   "metadata": {},
   "outputs": [
    {
     "data": {
      "image/png": "[encoded data removed]",
      "text/plain": [
       "<Figure size 640x480 with 1 Axes>"
      ]
     },
     "metadata": {},
     "output_type": "display_data"
    }
   ],
   "source": [
    "group_stats['Default_Rate'].plot(kind='bar', color='tomato', title='Default Rate per Risk Group')\n",
    "plt.ylabel('Default Rate')\n",
    "plt.grid(True)\n",
    "plt.show()"
   ]
  },
  {
   "cell_type": "markdown",
   "metadata": {},
   "source": [
    "## Export Scored Dataset"
   ]
  },
  {
   "cell_type": "code",
   "execution_count": 6,
   "metadata": {},
   "outputs": [
    {
     "name": "stdout",
     "output_type": "stream",
     "text": [
      "Saved scored dataset with risk levels.\n"
     ]
    }
   ],
   "source": [
    "df.to_csv('../outputs/scored_with_risk_levels.csv', index=False)\n",
    "print('Saved scored dataset with risk levels.')"
   ]
  }
 ],
 "metadata": {
  "kernelspec": {
   "display_name": "3.12.4",
   "language": "python",
   "name": "python3"
  },
  "language_info": {
   "codemirror_mode": {
    "name": "ipython",
    "version": 3
   },
   "file_extension": ".py",
   "mimetype": "text/x-python",
   "name": "python",
   "nbconvert_exporter": "python",
   "pygments_lexer": "ipython3",
   "version": "3.12.4"
  }
 },
 "nbformat": 4,
 "nbformat_minor": 2
}
