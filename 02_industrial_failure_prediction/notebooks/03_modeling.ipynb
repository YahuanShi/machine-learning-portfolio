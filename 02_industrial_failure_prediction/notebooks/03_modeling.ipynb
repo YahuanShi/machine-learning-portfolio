{
 "cells": [
  {
   "cell_type": "markdown",
   "metadata": {},
   "source": [
    "# 03 - Model Training (Simplified for UI Features)\n",
    "Train a binary classification model to predict early failure using only the features available in the Streamlit UI."
   ]
  },
  {
   "cell_type": "code",
   "execution_count": 1,
   "metadata": {},
   "outputs": [],
   "source": [
    "import pandas as pd\n",
    "import numpy as np\n",
    "from sklearn.model_selection import train_test_split\n",
    "from xgboost import XGBClassifier\n",
    "from sklearn.metrics import roc_auc_score, classification_report\n",
    "import joblib"
   ]
  },
  {
   "cell_type": "code",
   "execution_count": 2,
   "metadata": {},
   "outputs": [],
   "source": [
    "df = pd.read_csv('../outputs/FD001_features_labeled.csv')\n",
    "features = [\n",
    "    'sensor2_mean', 'sensor2_std', 'sensor2_diff',\n",
    "    'sensor3_mean', 'sensor3_std', 'sensor3_diff',\n",
    "    'sensor7_mean', 'sensor7_std', 'sensor7_diff',\n",
    "    'sensor11_mean', 'sensor11_std', 'sensor11_diff'\n",
    "]\n",
    "X = df[features]\n",
    "y = df['label']\n",
    "X_train, X_test, y_train, y_test = train_test_split(X, y, test_size=0.3, random_state=42)"
   ]
  },
  {
   "cell_type": "markdown",
   "metadata": {},
   "source": [
    "## Train & Save Model"
   ]
  },
  {
   "cell_type": "code",
   "execution_count": 3,
   "metadata": {},
   "outputs": [
    {
     "name": "stderr",
     "output_type": "stream",
     "text": [
      "/Users/yahuanshi/.pyenv/versions/3.12.4/lib/python3.12/site-packages/xgboost/training.py:183: UserWarning: [17:58:24] WARNING: /Users/runner/work/xgboost/xgboost/src/learner.cc:738: \n",
      "Parameters: { \"use_label_encoder\" } are not used.\n",
      "\n",
      "  bst.update(dtrain, iteration=i, fobj=obj)\n"
     ]
    },
    {
     "name": "stdout",
     "output_type": "stream",
     "text": [
      "Model trained and saved.\n"
     ]
    }
   ],
   "source": [
    "model = XGBClassifier(use_label_encoder=False, eval_metric='logloss')\n",
    "model.fit(X_train, y_train)\n",
    "joblib.dump(model, '../models/early_failure_model.pkl')\n",
    "print('Model trained and saved.')"
   ]
  },
  {
   "cell_type": "markdown",
   "metadata": {},
   "source": [
    "## Evaluate Performance"
   ]
  },
  {
   "cell_type": "code",
   "execution_count": 4,
   "metadata": {},
   "outputs": [
    {
     "name": "stdout",
     "output_type": "stream",
     "text": [
      "AUC: 0.9869\n",
      "              precision    recall  f1-score   support\n",
      "\n",
      "           0       0.97      0.98      0.97      5247\n",
      "           1       0.86      0.85      0.85       913\n",
      "\n",
      "    accuracy                           0.96      6160\n",
      "   macro avg       0.92      0.91      0.91      6160\n",
      "weighted avg       0.96      0.96      0.96      6160\n",
      "\n"
     ]
    }
   ],
   "source": [
    "probs = model.predict_proba(X_test)[:, 1]\n",
    "auc = roc_auc_score(y_test, probs)\n",
    "print(f'AUC: {auc:.4f}')\n",
    "print(classification_report(y_test, model.predict(X_test)))"
   ]
  }
 ],
 "metadata": {
  "kernelspec": {
   "display_name": "3.12.4",
   "language": "python",
   "name": "python3"
  },
  "language_info": {
   "codemirror_mode": {
    "name": "ipython",
    "version": 3
   },
   "file_extension": ".py",
   "mimetype": "text/x-python",
   "name": "python",
   "nbconvert_exporter": "python",
   "pygments_lexer": "ipython3",
   "version": "3.12.4"
  }
 },
 "nbformat": 4,
 "nbformat_minor": 2
}
